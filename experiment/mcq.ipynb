{
 "cells": [
  {
   "cell_type": "code",
   "execution_count": null,
   "metadata": {},
   "outputs": [],
   "source": []
  },
  {
   "cell_type": "code",
   "execution_count": 3,
   "metadata": {},
   "outputs": [
    {
     "name": "stdout",
     "output_type": "stream",
     "text": [
      "Collecting pandas\n",
      "  Downloading pandas-2.0.3-cp38-cp38-win_amd64.whl.metadata (18 kB)\n",
      "Requirement already satisfied: python-dateutil>=2.8.2 in c:\\users\\dell\\mcqgens\\env\\lib\\site-packages (from pandas) (2.9.0)\n",
      "Collecting pytz>=2020.1 (from pandas)\n",
      "  Downloading pytz-2025.2-py2.py3-none-any.whl.metadata (22 kB)\n",
      "Collecting tzdata>=2022.1 (from pandas)\n",
      "  Downloading tzdata-2025.2-py2.py3-none-any.whl.metadata (1.4 kB)\n",
      "Collecting numpy>=1.20.3 (from pandas)\n",
      "  Downloading numpy-1.24.4-cp38-cp38-win_amd64.whl.metadata (5.6 kB)\n",
      "Requirement already satisfied: six>=1.5 in c:\\users\\dell\\mcqgens\\env\\lib\\site-packages (from python-dateutil>=2.8.2->pandas) (1.16.0)\n",
      "Downloading pandas-2.0.3-cp38-cp38-win_amd64.whl (10.8 MB)\n",
      "   ---------------------------------------- 0.0/10.8 MB ? eta -:--:--\n",
      "   - -------------------------------------- 0.5/10.8 MB 3.3 MB/s eta 0:00:04\n",
      "   --- ------------------------------------ 1.0/10.8 MB 3.1 MB/s eta 0:00:04\n",
      "   ------ --------------------------------- 1.8/10.8 MB 3.5 MB/s eta 0:00:03\n",
      "   --------- ------------------------------ 2.6/10.8 MB 3.6 MB/s eta 0:00:03\n",
      "   ------------- -------------------------- 3.7/10.8 MB 3.7 MB/s eta 0:00:02\n",
      "   --------------- ------------------------ 4.2/10.8 MB 3.7 MB/s eta 0:00:02\n",
      "   ------------------ --------------------- 5.0/10.8 MB 3.6 MB/s eta 0:00:02\n",
      "   --------------------- ------------------ 5.8/10.8 MB 3.5 MB/s eta 0:00:02\n",
      "   ------------------------ --------------- 6.6/10.8 MB 3.6 MB/s eta 0:00:02\n",
      "   ----------------------------- ---------- 7.9/10.8 MB 3.6 MB/s eta 0:00:01\n",
      "   -------------------------------- ------- 8.7/10.8 MB 3.6 MB/s eta 0:00:01\n",
      "   ----------------------------------- ---- 9.4/10.8 MB 3.6 MB/s eta 0:00:01\n",
      "   -------------------------------------- - 10.5/10.8 MB 3.6 MB/s eta 0:00:01\n",
      "   ---------------------------------------- 10.8/10.8 MB 3.5 MB/s eta 0:00:00\n",
      "Downloading numpy-1.24.4-cp38-cp38-win_amd64.whl (14.9 MB)\n",
      "   ---------------------------------------- 0.0/14.9 MB ? eta -:--:--\n",
      "   -- ------------------------------------- 0.8/14.9 MB 3.7 MB/s eta 0:00:04\n",
      "   ---- ----------------------------------- 1.6/14.9 MB 3.6 MB/s eta 0:00:04\n",
      "   ------ --------------------------------- 2.4/14.9 MB 3.6 MB/s eta 0:00:04\n",
      "   -------- ------------------------------- 3.1/14.9 MB 3.7 MB/s eta 0:00:04\n",
      "   ---------- ----------------------------- 3.9/14.9 MB 3.7 MB/s eta 0:00:03\n",
      "   ------------ --------------------------- 4.7/14.9 MB 3.7 MB/s eta 0:00:03\n",
      "   -------------- ------------------------- 5.5/14.9 MB 3.6 MB/s eta 0:00:03\n",
      "   ---------------- ----------------------- 6.3/14.9 MB 3.6 MB/s eta 0:00:03\n",
      "   ------------------- -------------------- 7.1/14.9 MB 3.6 MB/s eta 0:00:03\n",
      "   --------------------- ------------------ 7.9/14.9 MB 3.6 MB/s eta 0:00:02\n",
      "   ----------------------- ---------------- 8.7/14.9 MB 3.6 MB/s eta 0:00:02\n",
      "   ------------------------- -------------- 9.4/14.9 MB 3.5 MB/s eta 0:00:02\n",
      "   -------------------------- ------------- 10.0/14.9 MB 3.5 MB/s eta 0:00:02\n",
      "   ----------------------------- ---------- 11.0/14.9 MB 3.5 MB/s eta 0:00:02\n",
      "   ------------------------------- -------- 11.5/14.9 MB 3.5 MB/s eta 0:00:01\n",
      "   --------------------------------- ------ 12.6/14.9 MB 3.5 MB/s eta 0:00:01\n",
      "   ----------------------------------- ---- 13.4/14.9 MB 3.6 MB/s eta 0:00:01\n",
      "   ------------------------------------- -- 13.9/14.9 MB 3.5 MB/s eta 0:00:01\n",
      "   ---------------------------------------  14.7/14.9 MB 3.5 MB/s eta 0:00:01\n",
      "   ---------------------------------------- 14.9/14.9 MB 3.4 MB/s eta 0:00:00\n",
      "Downloading pytz-2025.2-py2.py3-none-any.whl (509 kB)\n",
      "Downloading tzdata-2025.2-py2.py3-none-any.whl (347 kB)\n",
      "Installing collected packages: pytz, tzdata, numpy, pandas\n",
      "Successfully installed numpy-1.24.4 pandas-2.0.3 pytz-2025.2 tzdata-2025.2\n"
     ]
    }
   ],
   "source": [
    "!pip3 install pandas\n",
    "\n",
    "#import pandas as pd\n"
   ]
  },
  {
   "cell_type": "code",
   "execution_count": 6,
   "metadata": {},
   "outputs": [],
   "source": [
    "import numpy as np\n",
    "import pandas as pd"
   ]
  },
  {
   "cell_type": "code",
   "execution_count": null,
   "metadata": {},
   "outputs": [],
   "source": []
  },
  {
   "cell_type": "code",
   "execution_count": null,
   "metadata": {},
   "outputs": [],
   "source": []
  }
 ],
 "metadata": {
  "kernelspec": {
   "display_name": "Python 3",
   "language": "python",
   "name": "python3"
  },
  "language_info": {
   "codemirror_mode": {
    "name": "ipython",
    "version": 3
   },
   "file_extension": ".py",
   "mimetype": "text/x-python",
   "name": "python",
   "nbconvert_exporter": "python",
   "pygments_lexer": "ipython3",
   "version": "3.8.20"
  }
 },
 "nbformat": 4,
 "nbformat_minor": 2
}
